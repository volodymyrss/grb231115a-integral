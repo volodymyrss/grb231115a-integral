{
 "cells": [
  {
   "cell_type": "code",
   "execution_count": 84,
   "id": "320ddc38",
   "metadata": {},
   "outputs": [],
   "source": [
    "# ! pip install --upgrade pip\n",
    "# ! pip install --upgrade git+https://github.com/oda-hub/oda_api@request-list pandas\n",
    "# ! pip install linked-data-latex\n",
    "# ! pip install ruamel.yaml\n",
    "# ! pip install pymosaic-fits\n",
    "\n",
    "\n",
    "import oda_api.api\n",
    "import oda_api.token\n",
    "import oda_api.plot_tools\n",
    "import requests\n",
    "import logging\n",
    "from matplotlib import pylab as plt\n",
    "from astropy.coordinates import SkyCoord\n",
    "from astropy import units as u\n",
    "from astropy.time import Time\n",
    "import pandas as pd\n",
    "import numpy as np\n",
    "from ddpaper.draftdata import DraftData\n",
    "import io\n",
    "\n",
    "# https://gcn.gsfc.nasa.gov/gcn3/32634.gcn3"
   ]
  },
  {
   "cell_type": "code",
   "execution_count": 85,
   "id": "ef81a64f",
   "metadata": {},
   "outputs": [],
   "source": [
    "# !pip install ~/linked-data-latex"
   ]
  },
  {
   "cell_type": "code",
   "execution_count": 86,
   "id": "eef3d765",
   "metadata": {
    "tags": [
     "parameters"
    ]
   },
   "outputs": [],
   "source": [
    "# oda:version \"dev1.1.33\""
   ]
  },
  {
   "cell_type": "code",
   "execution_count": 87,
   "id": "eaca445d",
   "metadata": {},
   "outputs": [],
   "source": [
    "#TODO: statistics on odaf failures at the and of compute"
   ]
  },
  {
   "cell_type": "code",
   "execution_count": 88,
   "id": "c1126769",
   "metadata": {},
   "outputs": [],
   "source": [
    "# #slightly more verbose\n",
    "logging.getLogger().setLevel(logging.INFO)\n",
    "# #all messages\n",
    "#logging.getLogger().setLevel(logging.DEBUG)\n",
    "\n",
    "logging.getLogger('oda_api').addHandler(logging.StreamHandler())"
   ]
  },
  {
   "cell_type": "code",
   "execution_count": 89,
   "id": "3d01be61",
   "metadata": {},
   "outputs": [],
   "source": [
    "# 120711 https://www.aanda.org/articles/aa/pdf/2014/07/aa20872-12.pdf\n",
    "# https://www.cosmos.esa.int/web/integral/schedule-information"
   ]
  },
  {
   "cell_type": "code",
   "execution_count": 90,
   "id": "9c1ce92c",
   "metadata": {},
   "outputs": [],
   "source": [
    "from matplotlib import pylab as plt\n",
    "from astropy.coordinates import SkyCoord\n",
    "from astropy import units as u\n",
    "from astropy.time import Time\n",
    "import pandas as pd\n",
    "import numpy as np"
   ]
  },
  {
   "cell_type": "code",
   "execution_count": 91,
   "id": "5f5a14d7",
   "metadata": {},
   "outputs": [],
   "source": [
    "# !pip install requests-cache\n",
    "import requests_cache\n",
    "\n",
    "import pathlib\n",
    "import os\n",
    "\n",
    "cached_session = requests_cache.CachedSession(pathlib.Path(os.getenv('HOME')) / '.cache/odacache', backend='filesystem', expire_after=None)"
   ]
  },
  {
   "cell_type": "code",
   "execution_count": 92,
   "id": "58749051",
   "metadata": {},
   "outputs": [
    {
     "data": {
      "text/plain": [
       "<SkyCoord (ICRS): (ra, dec) in deg\n",
       "    (148.9684583, 69.6797028)>"
      ]
     },
     "execution_count": 92,
     "metadata": {},
     "output_type": "execute_result"
    }
   ],
   "source": [
    "T0_isot = \"2023-11-15T15:36:21\"\n",
    "T0_ijd = Time(T0_isot, scale='utc').tt.mjd - 51544\n",
    "\n",
    "src_coord = SkyCoord.from_name(\"M82\")\n",
    "source_name = \"GRB231115A\"\n",
    "src_coord"
   ]
  },
  {
   "cell_type": "code",
   "execution_count": 93,
   "id": "166ad849",
   "metadata": {},
   "outputs": [
    {
     "data": {
      "text/plain": [
       "0.0"
      ]
     },
     "execution_count": 93,
     "metadata": {},
     "output_type": "execute_result"
    }
   ],
   "source": [
    "float(Time(51544, format='mjd', scale='ut1').mjd) - Time(51544, format='mjd', scale='tai').mjd"
   ]
  },
  {
   "cell_type": "code",
   "execution_count": 94,
   "id": "73fd6324",
   "metadata": {},
   "outputs": [
    {
     "data": {
      "text/plain": [
       "{'sc': {'barytime': 0.4836616004860294,\n",
       "  'bodies': {'earth': {'body_dec': -74.698,\n",
       "    'body_distance': 0,\n",
       "    'body_in_sc': [105.72874309196058, 135.43175142461396],\n",
       "    'body_ra': 18.524,\n",
       "    'body_size': 2.42511304889436,\n",
       "    'integral_parallax': 57.29577951308232,\n",
       "    'separation': 150521.4},\n",
       "   'moon': {'body_dec': -74.698,\n",
       "    'body_distance': 378889.5671172929,\n",
       "    'body_in_sc': [120.15310909866372, 24.66996910039739],\n",
       "    'body_ra': 18.524,\n",
       "    'body_size': 0.22033052848167048,\n",
       "    'integral_parallax': 19.092953143235984,\n",
       "    'separation': 451697.59134174365},\n",
       "   'sun': {'body_dec': -74.698,\n",
       "    'body_distance': 147983612.33107626,\n",
       "    'body_in_sc': [103.21539446668925, 0.3341583469263892],\n",
       "    'body_ra': 18.524,\n",
       "    'body_size': 0.2693327025178536,\n",
       "    'integral_parallax': 0.058272725957698494,\n",
       "    'separation': 147997897.89585274}},\n",
       "  'd_scx': 3.806749124312944,\n",
       "  'd_scy': 93.58824399792101,\n",
       "  'd_scz': 91.26967479259532,\n",
       "  'dyz_scy': 160.5062586868098,\n",
       "  'dyz_scz': 109.49374131309158,\n",
       "  'ephs': {'alt': 150521.4, 'dec': 74.698, 'ra': 198.524},\n",
       "  'phi': -109.49374131319023,\n",
       "  'scx': {'dec': 72.741, 'ra': 156.02},\n",
       "  'scy': {'dec': 16.139781243882055, 'ra': 314.6840806441118},\n",
       "  'scz': {'dec': -5.952, 'ra': 226.413},\n",
       "  'theta': 3.806749124312943}}"
      ]
     },
     "execution_count": 94,
     "metadata": {},
     "output_type": "execute_result"
    }
   ],
   "source": [
    "dd = {}\n",
    "dd['sc'] = cached_session.get(f\"https://www.astro.unige.ch/mmoda/dispatch-data/gw/scsystem/api/v1.0/sc/{T0_isot}/{src_coord.ra.deg}/{src_coord.dec.deg}\").json()\n",
    "dd"
   ]
  },
  {
   "cell_type": "code",
   "execution_count": 95,
   "id": "5bc8bd6f",
   "metadata": {},
   "outputs": [
    {
     "data": {
      "text/html": [
       "<div>\n",
       "<style scoped>\n",
       "    .dataframe tbody tr th:only-of-type {\n",
       "        vertical-align: middle;\n",
       "    }\n",
       "\n",
       "    .dataframe tbody tr th {\n",
       "        vertical-align: top;\n",
       "    }\n",
       "\n",
       "    .dataframe thead th {\n",
       "        text-align: right;\n",
       "    }\n",
       "</style>\n",
       "<table border=\"1\" class=\"dataframe\">\n",
       "  <thead>\n",
       "    <tr style=\"text-align: right;\">\n",
       "      <th></th>\n",
       "      <th>t</th>\n",
       "      <th>dt</th>\n",
       "      <th>c</th>\n",
       "      <th>ds</th>\n",
       "    </tr>\n",
       "  </thead>\n",
       "  <tbody>\n",
       "    <tr>\n",
       "      <th>0</th>\n",
       "      <td>8719.627896</td>\n",
       "      <td>0.040326</td>\n",
       "      <td>3442</td>\n",
       "      <td>54181.040326</td>\n",
       "    </tr>\n",
       "    <tr>\n",
       "      <th>1</th>\n",
       "      <td>8719.627897</td>\n",
       "      <td>0.090327</td>\n",
       "      <td>3406</td>\n",
       "      <td>54181.090327</td>\n",
       "    </tr>\n",
       "    <tr>\n",
       "      <th>2</th>\n",
       "      <td>8719.627897</td>\n",
       "      <td>0.140327</td>\n",
       "      <td>3374</td>\n",
       "      <td>54181.140326</td>\n",
       "    </tr>\n",
       "    <tr>\n",
       "      <th>3</th>\n",
       "      <td>8719.627898</td>\n",
       "      <td>0.190326</td>\n",
       "      <td>3248</td>\n",
       "      <td>54181.190326</td>\n",
       "    </tr>\n",
       "    <tr>\n",
       "      <th>4</th>\n",
       "      <td>8719.627898</td>\n",
       "      <td>0.240327</td>\n",
       "      <td>3391</td>\n",
       "      <td>54181.240327</td>\n",
       "    </tr>\n",
       "    <tr>\n",
       "      <th>...</th>\n",
       "      <td>...</td>\n",
       "      <td>...</td>\n",
       "      <td>...</td>\n",
       "      <td>...</td>\n",
       "    </tr>\n",
       "    <tr>\n",
       "      <th>79995</th>\n",
       "      <td>8719.674190</td>\n",
       "      <td>3999.793657</td>\n",
       "      <td>3445</td>\n",
       "      <td>58180.793657</td>\n",
       "    </tr>\n",
       "    <tr>\n",
       "      <th>79996</th>\n",
       "      <td>8719.674190</td>\n",
       "      <td>3999.843658</td>\n",
       "      <td>3415</td>\n",
       "      <td>58180.843658</td>\n",
       "    </tr>\n",
       "    <tr>\n",
       "      <th>79997</th>\n",
       "      <td>8719.674191</td>\n",
       "      <td>3999.893657</td>\n",
       "      <td>3438</td>\n",
       "      <td>58180.893657</td>\n",
       "    </tr>\n",
       "    <tr>\n",
       "      <th>79998</th>\n",
       "      <td>8719.674191</td>\n",
       "      <td>3999.943657</td>\n",
       "      <td>3454</td>\n",
       "      <td>58180.943656</td>\n",
       "    </tr>\n",
       "    <tr>\n",
       "      <th>79999</th>\n",
       "      <td>8719.674192</td>\n",
       "      <td>3999.993658</td>\n",
       "      <td>3422</td>\n",
       "      <td>58180.993657</td>\n",
       "    </tr>\n",
       "  </tbody>\n",
       "</table>\n",
       "<p>80000 rows × 4 columns</p>\n",
       "</div>"
      ],
      "text/plain": [
       "                 t           dt     c            ds\n",
       "0      8719.627896     0.040326  3442  54181.040326\n",
       "1      8719.627897     0.090327  3406  54181.090327\n",
       "2      8719.627897     0.140327  3374  54181.140326\n",
       "3      8719.627898     0.190326  3248  54181.190326\n",
       "4      8719.627898     0.240327  3391  54181.240327\n",
       "...            ...          ...   ...           ...\n",
       "79995  8719.674190  3999.793657  3445  58180.793657\n",
       "79996  8719.674190  3999.843658  3415  58180.843658\n",
       "79997  8719.674191  3999.893657  3438  58180.893657\n",
       "79998  8719.674191  3999.943657  3454  58180.943656\n",
       "79999  8719.674192  3999.993658  3422  58180.993657\n",
       "\n",
       "[80000 rows x 4 columns]"
      ]
     },
     "execution_count": 95,
     "metadata": {},
     "output_type": "execute_result"
    }
   ],
   "source": [
    "acslc_r = cached_session.get(f\"https://www.astro.unige.ch/cdci/astrooda/dispatch-data/gw//integralhk/api/v1.0/genlc/ACS/{T0_ijd}/2000\")\n",
    "import pandas as pd\n",
    "import io\n",
    "\n",
    "acslc = pd.read_csv(io.StringIO(acslc_r.text), skiprows=5, names=['t', 'dt', 'c', 'ds'], delim_whitespace=True)\n",
    "acslc"
   ]
  },
  {
   "cell_type": "code",
   "execution_count": 96,
   "id": "3e6bfbf9",
   "metadata": {},
   "outputs": [
    {
     "data": {
      "text/plain": [
       "[<astropy.io.fits.hdu.image.PrimaryHDU object at 0x7fc551c994b0>, <astropy.io.fits.hdu.table.BinTableHDU object at 0x7fc551c9a080>, <astropy.io.fits.hdu.table.BinTableHDU object at 0x7fc551c9b2b0>, <astropy.io.fits.hdu.table.BinTableHDU object at 0x7fc551c9b0d0>, <astropy.io.fits.hdu.table.BinTableHDU object at 0x7fc551c9b580>]"
      ]
     },
     "execution_count": 96,
     "metadata": {},
     "output_type": "execute_result"
    }
   ],
   "source": [
    "import subprocess\n",
    "import io\n",
    "import pathlib\n",
    "from astropy.io import fits\n",
    "\n",
    "def sshopen(fn):\n",
    "    cfn = pathlib.Path(\"/tmp/sshopen-cache/\") / fn.replace(\"/\", \"_\")\n",
    "    cfn.parent.mkdir(exist_ok=True)\n",
    "\n",
    "    try:\n",
    "        of = fits.open(cfn)\n",
    "    except:\n",
    "        f = io.BytesIO(subprocess.check_output(f\"ssh login01.astro.unige.ch tar cf - {fn} | tar xf - -O\", shell=True))\n",
    "\n",
    "        with open(cfn, \"wb\") as F:\n",
    "            F.write(f.read())\n",
    "        \n",
    "        of = fits.open(cfn)\n",
    "    return of\n",
    "\n",
    "sshopen(\"/isdc/pvphase/nrt/ops/scw/2709/270900370010.000/isgri_events.fits.gz\")\n"
   ]
  },
  {
   "cell_type": "code",
   "execution_count": 97,
   "id": "16b2abe0",
   "metadata": {},
   "outputs": [],
   "source": [
    "hklc = {}"
   ]
  },
  {
   "cell_type": "code",
   "execution_count": 98,
   "id": "3535ec08",
   "metadata": {},
   "outputs": [
    {
     "name": "stdout",
     "output_type": "stream",
     "text": [
      "fetching SPI_VETOGATE\n",
      "took 0.004204511642456055 s\n",
      "fetching SPI_VETONONSAT\n",
      "took 0.0031604766845703125 s\n",
      "fetching SPI_VETOSAT\n",
      "took 0.003682851791381836 s\n",
      "fetching SPI_GEDRATE0\n",
      "took 0.0036199092864990234 s\n",
      "fetching SPI_GEDRATE1\n",
      "took 0.0037355422973632812 s\n",
      "fetching SPI_GEDRATE2\n",
      "took 0.014397382736206055 s\n",
      "fetching SPI_GEDRATE3\n",
      "took 0.005876302719116211 s\n",
      "fetching SPI_GEDRATE4\n",
      "took 0.002829313278198242 s\n",
      "fetching SPI_GEDRATE5\n",
      "took 0.0023615360260009766 s\n",
      "fetching SPI_GEDRATE6\n",
      "took 0.002568483352661133 s\n",
      "fetching SPI_GEDRATE7\n",
      "took 0.0026144981384277344 s\n",
      "fetching SPI_GEDRATE8\n",
      "took 0.0024874210357666016 s\n",
      "fetching SPI_GEDRATE9\n",
      "took 0.0028710365295410156 s\n",
      "fetching SPI_GEDRATE10\n",
      "took 0.0025398731231689453 s\n",
      "fetching SPI_GEDRATE11\n",
      "took 0.0029685497283935547 s\n",
      "fetching SPI_GEDRATE12\n",
      "took 0.002505779266357422 s\n",
      "fetching SPI_GEDRATE13\n",
      "took 0.0030159950256347656 s\n",
      "fetching SPI_GEDRATE14\n",
      "took 0.002809762954711914 s\n",
      "fetching SPI_GEDRATE15\n",
      "took 0.0024957656860351562 s\n",
      "fetching SPI_GEDRATE16\n",
      "took 0.0026521682739257812 s\n",
      "fetching SPI_GEDRATE17\n",
      "took 0.0022907257080078125 s\n",
      "fetching SPI_GEDRATE18\n",
      "took 0.0022819042205810547 s\n",
      "fetching SPI_GEDSAT0\n",
      "took 0.002337932586669922 s\n",
      "fetching SPI_GEDSAT1\n",
      "took 0.0024797916412353516 s\n",
      "fetching SPI_GEDSAT2\n",
      "took 0.0026340484619140625 s\n",
      "fetching SPI_GEDSAT3\n",
      "took 0.003209352493286133 s\n",
      "fetching SPI_GEDSAT4\n",
      "took 0.002650737762451172 s\n",
      "fetching SPI_GEDSAT5\n",
      "took 0.002624988555908203 s\n",
      "fetching SPI_GEDSAT6\n",
      "took 0.0025701522827148438 s\n",
      "fetching SPI_GEDSAT7\n",
      "took 0.002474069595336914 s\n",
      "fetching SPI_GEDSAT8\n",
      "took 0.0026721954345703125 s\n",
      "fetching SPI_GEDSAT9\n",
      "took 0.002420663833618164 s\n",
      "fetching SPI_GEDSAT10\n",
      "took 0.002528667449951172 s\n",
      "fetching SPI_GEDSAT11\n",
      "took 0.0026531219482421875 s\n",
      "fetching SPI_GEDSAT12\n",
      "took 0.0029566287994384766 s\n",
      "fetching SPI_GEDSAT13\n",
      "took 0.002545595169067383 s\n",
      "fetching SPI_GEDSAT14\n",
      "took 0.002556324005126953 s\n",
      "fetching SPI_GEDSAT15\n",
      "took 0.0034842491149902344 s\n",
      "fetching SPI_GEDSAT16\n",
      "took 0.0025064945220947266 s\n",
      "fetching SPI_GEDSAT17\n",
      "took 0.002691030502319336 s\n",
      "fetching SPI_GEDSAT18\n",
      "took 0.002602815628051758 s\n"
     ]
    }
   ],
   "source": [
    "import time\n",
    "\n",
    "def gethklc(n):\n",
    "    t0 = time.time()\n",
    "    r = cached_session.get(f\"https://www.astro.unige.ch/cdci/astrooda/dispatch-data/gw//integralhk/api/v1.0/genlc/{n}/{T0_ijd}/4000\")\n",
    "    print(f\"took {time.time() - t0} s\")\n",
    "    return pd.read_csv(io.StringIO(r.text), skiprows=5, names=['t', 'dt', 'c', 'ds'], delim_whitespace=True)\n",
    "\n",
    "# IBIS_VETO\n",
    "for n in ['SPI_VETOGATE', 'SPI_VETONONSAT', 'SPI_VETOSAT'] + \\\n",
    "         [f'SPI_GEDRATE{i}' for i in range(19)] + \\\n",
    "         [f'SPI_GEDSAT{i}' for i in range(19)]:\n",
    "        #   'FEE{i}' for i in range(1, 92)]:\n",
    "    print(\"fetching\", n)\n",
    "\n",
    "    # if n not in hklc:\n",
    "    hklc[n] = gethklc(n)\n",
    "    \n",
    "    "
   ]
  },
  {
   "cell_type": "code",
   "execution_count": 99,
   "id": "b4cdbfe2",
   "metadata": {},
   "outputs": [
    {
     "name": "stdout",
     "output_type": "stream",
     "text": [
      "new\n",
      "186.29396259570728\n",
      "adding SPI_GEDSAT1 0.0\n",
      "186.29396259570728\n",
      "adding SPI_GEDSAT2 0.0\n",
      "186.29396259570728\n",
      "adding SPI_GEDSAT3 188.16605999748964\n",
      "374.4600225931969\n",
      "adding SPI_GEDSAT4 188.89657336513116\n",
      "563.3565959583281\n",
      "adding SPI_GEDSAT5 0.0\n",
      "563.3565959583281\n",
      "adding SPI_GEDSAT6 189.4656708924313\n",
      "752.8222668507594\n",
      "adding SPI_GEDSAT7 187.63122881887787\n",
      "940.4534956696373\n",
      "adding SPI_GEDSAT8 191.4792268105937\n",
      "1131.932722480231\n",
      "adding SPI_GEDSAT9 189.88100916279654\n",
      "1321.8137316430275\n",
      "adding SPI_GEDSAT10 192.49742688590436\n",
      "1514.3111585289319\n",
      "adding SPI_GEDSAT11 190.88954437052843\n",
      "1705.2007028994603\n",
      "adding SPI_GEDSAT12 185.15664616543242\n",
      "1890.3573490648928\n",
      "adding SPI_GEDSAT13 186.79753985188904\n",
      "2077.1548889167816\n",
      "adding SPI_GEDSAT14 191.58704656708923\n",
      "2268.7419354838707\n",
      "adding SPI_GEDSAT15 190.87749466549516\n",
      "2459.619430149366\n",
      "adding SPI_GEDSAT16 190.93435421112088\n",
      "2650.553784360487\n",
      "adding SPI_GEDSAT17 0.0\n",
      "2650.553784360487\n",
      "adding SPI_GEDSAT18 192.72235471319192\n",
      "2843.276139073679\n",
      "new\n",
      "979.8151123383959\n",
      "adding SPI_GEDRATE1 0.000125517760763148\n",
      "979.8152378561566\n",
      "adding SPI_GEDRATE2 0.0\n",
      "979.8152378561566\n",
      "adding SPI_GEDRATE3 976.0126772938371\n",
      "1955.8279151499937\n",
      "adding SPI_GEDRATE4 981.0989079954813\n",
      "2936.9268231454753\n",
      "adding SPI_GEDRATE5 197.8137316430275\n",
      "3134.740554788503\n",
      "adding SPI_GEDRATE6 974.3308648173717\n",
      "4109.071419605874\n",
      "adding SPI_GEDRATE7 925.4988075812728\n",
      "5034.570227187147\n",
      "adding SPI_GEDRATE8 921.2912012049705\n",
      "5955.861428392118\n",
      "adding SPI_GEDRATE9 941.3046316053722\n",
      "6897.166059997489\n",
      "adding SPI_GEDRATE10 928.2299485377181\n",
      "7825.396008535207\n",
      "adding SPI_GEDRATE11 940.7340278649428\n",
      "8766.13003640015\n",
      "adding SPI_GEDRATE12 906.1253922430024\n",
      "9672.255428643153\n",
      "adding SPI_GEDRATE13 928.8764905234091\n",
      "10601.131919166563\n",
      "adding SPI_GEDRATE14 925.7124388100916\n",
      "11526.844357976654\n",
      "adding SPI_GEDRATE15 935.9044809840592\n",
      "12462.748838960713\n",
      "adding SPI_GEDRATE16 917.6349943517008\n",
      "13380.383833312413\n",
      "adding SPI_GEDRATE17 0.021463537090498305\n",
      "13380.405296849503\n",
      "adding SPI_GEDRATE18 916.1658089619681\n",
      "14296.571105811472\n"
     ]
    }
   ],
   "source": [
    "for p in 'SPI_GEDSAT', 'SPI_GEDRATE':\n",
    "\n",
    "    if p in hklc:\n",
    "        hklc.__delitem__(p) # = None\n",
    "\n",
    "    for k, v in list(hklc.items()):\n",
    "        if len(v.t) < 10: continue\n",
    "        if k.startswith(p) and k!=p:\n",
    "            if p not in hklc:\n",
    "                hklc[p] = v.copy(deep=True)\n",
    "                print(\"new\")\n",
    "            else:\n",
    "                print(\"adding\", k, v.c.mean())\n",
    "                hklc[p].c = np.array(hklc[p].c).copy() + np.array(v.c).copy() \n",
    "\n",
    "            if p in hklc:    \n",
    "                print(hklc[p].c.mean())"
   ]
  },
  {
   "cell_type": "code",
   "execution_count": 100,
   "id": "d12fcf35",
   "metadata": {},
   "outputs": [
    {
     "name": "stderr",
     "output_type": "stream",
     "text": [
      "No artists with labels found to put in legend.  Note that artists whose label start with an underscore are ignored when legend() is called with no argument.\n"
     ]
    },
    {
     "data": {
      "image/png": "[encoded data removed]",
      "text/plain": [
       "<Figure size 1200x600 with 1 Axes>"
      ]
     },
     "metadata": {},
     "output_type": "display_data"
    }
   ],
   "source": [
    "import re\n",
    "\n",
    "colors = ['#1f77b4', '#ff7f0e']\n",
    "\n",
    "def plot_spirates(ax=None):\n",
    "    N = None\n",
    "\n",
    "    groups = [\n",
    "        # [\n",
    "        #     'VETOSAT', \n",
    "        #     'SPI_VETOGATE', \n",
    "        #     'SPI_VETONONSAT'\n",
    "        # ],\n",
    "        [\n",
    "            # 'GEDRATE$',\n",
    "            # 'GEDSAT$',\n",
    "            # 'GEDRATE$',\n",
    "            # 'GEDSAT7',\n",
    "            # 'GEDSAT18',\n",
    "            # 'GEDRATE18',\n",
    "            'GEDSAT$',\n",
    "            'GEDRATE$',\n",
    "            # 'GEDSAT1',\n",
    "            # 'GEDRATE1',\n",
    "        ],\n",
    "        # ['GEDSAT0']    \n",
    "    ]\n",
    "\n",
    "    if ax is None:\n",
    "        f, axes = plt.subplots(len(groups), 1, figsize=(12, 6), sharex=True)\n",
    "\n",
    "        if len(groups) == 1:\n",
    "            axes = [axes]\n",
    "    else:\n",
    "        axes = [ax]\n",
    "\n",
    "\n",
    "    for ax, group in zip(axes, groups):\n",
    "        for k in group:            \n",
    "            for l, lc in hklc.items():\n",
    "                if re.search(k, l):\n",
    "                    if len(lc.t) < 10: continue\n",
    "\n",
    "                    t_rel_s = (lc.t - T0_ijd)*24*3600\n",
    "                    m_bkg = t_rel_s < 200\n",
    "                    bkg = np.nanmean(lc.c[m_bkg])\n",
    "                    s_bkg = np.nanstd(lc.c[m_bkg])\n",
    "                    ev_bkg = s_bkg/bkg**0.5\n",
    "                    mx = (np.nanmax(lc.c) - bkg)\n",
    "                    sn = (np.nanmax(lc.c) - bkg) / s_bkg\n",
    "\n",
    "                    if sn < 20: continue\n",
    "            \n",
    "                    m_n = t_rel_s > 250\n",
    "                    m_n &= t_rel_s < 280\n",
    "                    \n",
    "                    n = np.nanmax((lc.c - bkg)[m_n])\n",
    "                    if N is None:\n",
    "                        N = n\n",
    "                        n = 1\n",
    "                        label = l\n",
    "                    else:\n",
    "                        n /= N\n",
    "                        label = f\"{l} x {int(n**-1)}\"\n",
    "\n",
    "                    # n = 1\n",
    "                        \n",
    "                    label += f\" (EV: {ev_bkg:.2f} SD: {s_bkg:.2f} S/N {sn:.2f}) MX: {mx:.2f}\" \n",
    "                    tag = \"na\"                    \n",
    "\n",
    "                    if 'GEDRATE' in label:\n",
    "                        label = \"SPI GeD total rate < 8 MeV\"\n",
    "                        tag = \"gedrate\"\n",
    "                    else:\n",
    "                        label = \"SPI GeD total rate > 8 MeV\"\n",
    "                        tag = \"gedsat\"\n",
    "\n",
    "                    # bkg =0\n",
    "\n",
    "                    # colors.append(\n",
    "                    ax.step(\n",
    "                        t_rel_s,\n",
    "                        (lc.c - bkg)/n,\n",
    "                        # lc.c**0.5,\n",
    "                        # xerr=1 + np.array(lc.t)*0,\n",
    "                        lw=2,\n",
    "                        # ls=\"\",\n",
    "                        label=label,\n",
    "                        c=colors.pop()\n",
    "                    )\n",
    "                    #[0].get_color())                        \n",
    "\n",
    "\n",
    "\n",
    "    # break\n",
    "\n",
    "plt.figure(figsize=(12, 6))\n",
    "\n",
    "plot_spirates(plt.gca())\n",
    "\n",
    "plt.legend()\n",
    "# for ax in axes:\n",
    "#     ax.legend()\n",
    "\n",
    "# plt.sca(axes[-1])\n",
    "\n",
    "# plt.subplots_adjust(hspace=0)\n",
    "\n",
    "\n",
    "plt.xlim([200, 300])\n",
    "# plt.xlim([0, 600])\n",
    "# plt.xlim([0, 600])\n",
    "plt.xlabel(f\"seconds since T$_0$ ({T0_isot})\")\n",
    "plt.ylabel(\"scaled counts s$^{-1}$\")\n",
    "# axes[0].set_title(\"bottom: background-subtracted\")\n",
    "# plt.savefig(\"many_hk_rates.pdf\")\n",
    "plt.savefig(\"spi_rates.pdf\")\n",
    "\n",
    "#TODO: noise by sat"
   ]
  },
  {
   "cell_type": "code",
   "execution_count": 101,
   "id": "d0f5f93a",
   "metadata": {},
   "outputs": [
    {
     "data": {
      "text/plain": [
       "['#1f77b4', '#ff7f0e']"
      ]
     },
     "execution_count": 101,
     "metadata": {},
     "output_type": "execute_result"
    }
   ],
   "source": [
    "colors"
   ]
  },
  {
   "cell_type": "code",
   "execution_count": 102,
   "id": "c28554f9",
   "metadata": {},
   "outputs": [],
   "source": [
    "ijd2plot = lambda T: (T - T0_ijd)*24*3600\n",
    "ijd2plot_d = lambda T: (T - T0_ijd)"
   ]
  },
  {
   "cell_type": "code",
   "execution_count": 103,
   "id": "453f85d8",
   "metadata": {},
   "outputs": [
    {
     "data": {
      "text/plain": [
       "{'dec': 72.741, 'ra': 156.02}"
      ]
     },
     "execution_count": 103,
     "metadata": {},
     "output_type": "execute_result"
    }
   ],
   "source": [
    "T0_pointing_coord = dd['sc']['scx']\n",
    "T0_pointing_coord"
   ]
  },
  {
   "cell_type": "code",
   "execution_count": 104,
   "id": "2235e5d6",
   "metadata": {},
   "outputs": [
    {
     "data": {
      "text/plain": [
       "array([6792, 6626, 6770, 6614, 6593, 6328, 6616, 6808, 6785, 6747, 6677,\n",
       "       6581, 6825, 6573, 6507, 6585, 6615, 6488, 6627, 6468, 6792, 6659,\n",
       "       6588, 6959, 6707, 6605, 6703, 6809, 6699, 6751, 6476, 6452, 6730,\n",
       "       6888, 6717, 6752, 6998, 6712, 6666, 6747, 6828, 6619, 6658, 6702,\n",
       "       6564, 6647, 6674, 6736, 6594, 6716, 6661, 6648, 6893, 6750, 6785,\n",
       "       6675, 6654, 6740, 6576, 6859, 6616, 6526, 6691, 6858, 6669, 6589,\n",
       "       6538, 6718, 6451, 6627, 6742, 6826, 7032, 6638, 6723, 6953, 6570,\n",
       "       6582, 6639, 6594, 6477, 6447, 6827, 6798, 6705, 6948, 6592, 6512,\n",
       "       6518, 6539, 6648, 6484, 6640, 6741, 6783, 6698, 6562, 6529, 6548,\n",
       "       6524, 6709, 6753, 6663, 6914, 6575, 6737, 6685, 6675, 6626, 6932,\n",
       "       6882, 6658, 6399, 6770, 6426, 7010, 6874, 6597, 6843, 6571, 6592,\n",
       "       6650, 6798, 6675, 6559, 6675, 6886, 6660, 6846, 6449, 6612, 6612,\n",
       "       6444, 6966, 6664, 6446, 6607, 6444, 6733, 6448, 6725, 6746, 6534,\n",
       "       6713, 6510, 6306, 6696, 6578, 6579, 6698, 6692, 6655, 6606, 6614,\n",
       "       6385, 6486, 6549, 6662, 6657, 6601, 6583, 6643, 6615, 6410, 6511,\n",
       "       6957, 6712, 6975, 6702, 6543, 6852, 6942, 6671, 6785, 6761, 6425,\n",
       "       6857, 6805, 6423, 6651, 6931, 6709, 6721, 6435, 6745, 6830, 6697,\n",
       "       6665, 6893, 6606, 6782, 6679, 6617, 6813, 6603, 6419, 6626, 6755,\n",
       "       6690, 6846, 6495, 6776, 6822, 7027, 6855, 6473, 6672, 6682, 6589,\n",
       "       6688, 6431, 6878, 6617, 6555, 6613, 6781, 6496, 6725, 6658, 6413,\n",
       "       6648, 6695, 6928, 6718, 6473, 7075, 6875, 6465, 6589, 6728, 6471,\n",
       "       6669, 6620, 6636, 6661, 6672, 6781, 6881, 6770, 6428, 6557, 6668,\n",
       "       6913, 6774, 6466, 6424, 6691, 6493, 6750, 6849, 6445, 6776, 6770,\n",
       "       6678, 6568, 6723, 6721, 6562, 6834, 6643, 6696, 6846, 6418, 6779,\n",
       "       6561, 6643, 6638, 6661, 6518, 6686, 6564, 6619, 6674, 6578, 6887,\n",
       "       6377, 6804, 6828, 6622, 6559, 6719, 6515, 6565, 6880, 6731, 6667,\n",
       "       6610, 6662, 6731, 6568, 6666, 6752, 6334, 6368, 6595, 6887, 6376,\n",
       "       6570, 6525, 6686, 6871, 6534, 6839, 6604, 6797, 6837, 6721, 6482,\n",
       "       6483, 6473, 6650, 6584, 6736, 6813, 6626, 6910, 6715, 6729, 7045,\n",
       "       6435, 6714, 6550, 6514, 6818, 6735, 6737, 6592, 6931, 6785, 6538,\n",
       "       6894, 6718, 6596, 6805, 6651, 6949, 6794, 6513, 6727, 6826, 6807,\n",
       "       6630, 6449, 6718, 6563, 6596, 6645, 6527, 6689, 6548, 6970, 6888,\n",
       "       6678, 6612, 6695, 6785, 6710, 6462, 6504, 6971, 7031, 6562, 6690,\n",
       "       6936, 6495, 6688, 6648, 6674, 6667, 6816, 6550, 6716, 6693, 6624,\n",
       "       6977, 6629, 6964, 6538, 6858, 6659, 6749, 6545, 6696, 6593, 6507,\n",
       "       6794, 6695, 6569, 6949, 6795, 6770, 6713, 6844, 6542, 6735, 6812,\n",
       "       7014, 6857, 6549, 6830, 6747, 6602, 6631, 6558, 6723, 6599, 6765,\n",
       "       6710, 6745, 6596, 6550, 6729, 6844, 6528, 7058, 6958, 6686, 6737,\n",
       "       6897, 6565, 6694, 6708, 6580, 6445, 6530, 6518, 6679, 6537, 6601,\n",
       "       6844, 6554, 6610, 6865, 6749, 6783, 6741, 6460, 6632, 6913, 6580,\n",
       "       6663, 6898, 6551, 6565, 6687, 6574, 6666, 6576, 6704, 6917, 6878,\n",
       "       6771, 6539, 6865, 6717, 6513, 6609, 6628, 6729, 6677, 6532, 6586,\n",
       "       6621, 6627, 7031, 6557, 6633, 6564, 6477, 6567, 6519, 6846, 6808,\n",
       "       6782, 6720, 6576, 6734, 7002, 6699, 6569, 6782, 6811, 6809, 6764,\n",
       "       6913, 6399, 6576, 6788, 6695, 7152, 6646, 6627, 6869, 6578, 6535,\n",
       "       6770, 6602, 6924, 6551, 6598])"
      ]
     },
     "execution_count": 104,
     "metadata": {},
     "output_type": "execute_result"
    }
   ],
   "source": [
    "mce = dict()\n",
    "\n",
    "for i in range(8):\n",
    "    mce[i] = pd.read_csv(\n",
    "        io.StringIO(cached_session.get(f\"https://www.astro.unige.ch/mmoda/dispatch-data/gw/integralhk/api/v1.0/genlc/ISGRIRAW_MCE{i}/{T0_ijd}/2000\").text), \n",
    "        skiprows=5, names=['t', 'dt', 'c', 'ds'], delim_whitespace=True)\n",
    "\n",
    "\n",
    "np.sum([mce[i].c for i in range(8)], axis=0)"
   ]
  },
  {
   "cell_type": "code",
   "execution_count": 128,
   "metadata": {},
   "outputs": [],
   "source": [
    "\n",
    "spti = dict()\n",
    "\n",
    "for i in range(1, 9):\n",
    "    try:\n",
    "        spti[i] = pd.read_csv(f\"spti_{i}.csv\")\n",
    "    except Exception as e:\n",
    "        print(e)        \n",
    "        url = f\"https://www.isdc.unige.ch/~savchenk/spiacs-online/spiacs.pl?requeststring=SPTI{i}+{T0_isot}+300&generate=genlc&submit=Submit\"\n",
    "        print(url)\n",
    "\n",
    "        while True:\n",
    "            spti[i] = pd.read_csv(        \n",
    "                io.StringIO(requests.get(url).text), \n",
    "                skiprows=5, skipfooter=1, names=['t', 't_s0', 'c', 't_sm'], delim_whitespace=True, index_col=False)\n",
    "            print(i, \"got array of\", len(spti[i]))\n",
    "            if len(spti[i]) > 10:\n",
    "                break\n",
    "            time.sleep(10)\n",
    "\n",
    "        v.to_csv(f\"spti_{i}.csv\")\n",
    "\n",
    "spti_sum = np.sum([np.array(spti[i].c) for i in range(1, 9)], axis=0)\n",
    "\n",
    "spti_1_4 = np.sum([np.array(spti[i].c) for i in range(1, 4)], axis=0)\n",
    "spti_5_9 = np.sum([np.array(spti[i].c) for i in range(5, 9)], axis=0)\n",
    "spti_7_9 = np.sum([np.array(spti[i].c) for i in range(7, 9)], axis=0)\n",
    "\n",
    "spti_t = np.array(spti[1].t)"
   ]
  },
  {
   "cell_type": "code",
   "execution_count": 107,
   "metadata": {},
   "outputs": [
    {
     "data": {
      "text/plain": [
       "'2023-11-15T15:36:21'"
      ]
     },
     "execution_count": 107,
     "metadata": {},
     "output_type": "execute_result"
    }
   ],
   "source": [
    "T0_isot"
   ]
  },
  {
   "cell_type": "code",
   "execution_count": 108,
   "id": "d0f69da8",
   "metadata": {},
   "outputs": [
    {
     "data": {
      "text/html": [
       "<div>\n",
       "<style scoped>\n",
       "    .dataframe tbody tr th:only-of-type {\n",
       "        vertical-align: middle;\n",
       "    }\n",
       "\n",
       "    .dataframe tbody tr th {\n",
       "        vertical-align: top;\n",
       "    }\n",
       "\n",
       "    .dataframe thead th {\n",
       "        text-align: right;\n",
       "    }\n",
       "</style>\n",
       "<table border=\"1\" class=\"dataframe\">\n",
       "  <thead>\n",
       "    <tr style=\"text-align: right;\">\n",
       "      <th></th>\n",
       "      <th>SWID</th>\n",
       "      <th>SW_TYPE</th>\n",
       "      <th>TELAPSE</th>\n",
       "      <th>TSTART</th>\n",
       "      <th>TSTOP</th>\n",
       "    </tr>\n",
       "  </thead>\n",
       "  <tbody>\n",
       "    <tr>\n",
       "      <th>0</th>\n",
       "      <td>270900370010</td>\n",
       "      <td>POINTING</td>\n",
       "      <td>5013.004195</td>\n",
       "      <td>8719.601234</td>\n",
       "      <td>8719.659255</td>\n",
       "    </tr>\n",
       "  </tbody>\n",
       "</table>\n",
       "</div>"
      ],
      "text/plain": [
       "           SWID       SW_TYPE      TELAPSE       TSTART        TSTOP\n",
       "0  270900370010  POINTING      5013.004195  8719.601234  8719.659255"
      ]
     },
     "execution_count": 108,
     "metadata": {},
     "output_type": "execute_result"
    }
   ],
   "source": [
    "\n",
    "scw_dict_prompt = pd.DataFrame(cached_session.get(f\"https://www.astro.unige.ch/mmoda/dispatch-data/gw/timesystem/api/v1.0/scwlist/nrt/{T0_ijd-1000/24/3600}/{T0_ijd+100/24/3600}?\"\n",
    "             f\"ra={src_coord.ra.deg}&dec={src_coord.dec.deg}&radius=200&return_columns=SWID,SW_TYPE,TELAPSE,TSTART,TSTOP\").json())\n",
    "\n",
    "scw_dict_prompt"
   ]
  },
  {
   "cell_type": "code",
   "execution_count": 109,
   "id": "caaf8a25",
   "metadata": {},
   "outputs": [],
   "source": [
    "# https://heasarc.gsfc.nasa.gov/docs/integral/ao19-docs-b/AO19_recommended_programme.pdf"
   ]
  },
  {
   "cell_type": "code",
   "execution_count": 110,
   "id": "6a963b0c",
   "metadata": {},
   "outputs": [
    {
     "name": "stdout",
     "output_type": "stream",
     "text": [
      "expected total ISGRI RAW rate = 61356.53080557911 1 / s\n",
      "expected total ISGRI RAW waiting time = 7.669566350697389 1 / ms\n"
     ]
    }
   ],
   "source": [
    "# expected isgri raw rate\n",
    "\n",
    "isgri_pixel_eff_area = u.cm**2 * 0.4*0.4 * 1 # opacity 1 approximate\n",
    "isgri_mdu_eff_area = 64 * 32* isgri_pixel_eff_area \n",
    "isgri_eff_area = 128*128* isgri_pixel_eff_area \n",
    "\n",
    "flux_neax_peak = 5e4 * 1.5e-10 * u.erg/u.cm**2/u.s\n",
    "\n",
    "print(\"expected total ISGRI RAW rate =\", ((flux_neax_peak * isgri_eff_area)/(u.keV * 200)).to(u.s**-1))\n",
    "print(\"expected total ISGRI RAW waiting time =\", ((flux_neax_peak * isgri_mdu_eff_area)/(u.keV * 200)).to(u.ms**-1))"
   ]
  },
  {
   "cell_type": "code",
   "execution_count": 130,
   "id": "17a2b735",
   "metadata": {},
   "outputs": [
    {
     "name": "stdout",
     "output_type": "stream",
     "text": [
      "first to ISGR-EVTS-ALL 2442150\n",
      "first to SPI.-OSGL-ALL 2076922\n",
      "bkg for ISGR-EVTS-ALL = 789.6187831622372\n",
      "bkg for SPI.-OSGL-ALL = 756.2815357824969\n"
     ]
    },
    {
     "data": {
      "image/png": "[encoded data removed]",
      "text/plain": [
       "<Figure size 1600x800 with 1 Axes>"
      ]
     },
     "metadata": {},
     "output_type": "display_data"
    }
   ],
   "source": [
    "\n",
    "from collections import defaultdict\n",
    "\n",
    "\n",
    "time_ranges_of_interest=[(200, 290), (490, 550)]\n",
    "# time_ranges_of_interest=[(220, 280), (490, 550)]\n",
    "summary_by_time_range = defaultdict(dict)\n",
    "\n",
    "\n",
    "plt.figure(figsize=(16, 8))\n",
    "\n",
    "from collections import defaultdict\n",
    "\n",
    "hs_by_et = defaultdict(list)\n",
    "cs_by_et = defaultdict(list)\n",
    "\n",
    "compton_event_file = {}\n",
    "isgri_event_file = {}\n",
    "spi_event_file = {}\n",
    "\n",
    "events_by_ext = {}\n",
    "\n",
    "\n",
    "def plot_all(ax):    \n",
    "    \n",
    "    ax.axhline(0, lw=3, ls=\"--\", alpha=0.3)\n",
    "    \n",
    "    ijd2plot = lambda T: (T - T0_ijd)*24*3600\n",
    "\n",
    "    for i, r in scw_dict_prompt.iterrows():\n",
    "        scwid = r.SWID\n",
    "\n",
    "        # compton_event_file[scwid]  = sshopen(f\"/isdc/arc/rev_3/scw/{scwid[:4]}/{scwid}.001/compton_events.fits.gz\")\n",
    "        # isgri_event_file[scwid]  = sshopen(f\"/isdc/arc/rev_3/scw/{scwid[:4]}/{scwid}.001/isgri_events.fits.gz\")    \n",
    "        compton_event_file[scwid]  = sshopen(f\"/isdc/pvphase/nrt/ops/scw/{scwid[:4]}/{scwid}.000/compton_events.fits.gz\")\n",
    "        isgri_event_file[scwid]  = sshopen(f\"/isdc/pvphase/nrt/ops/scw/{scwid[:4]}/{scwid}.000/isgri_events.fits.gz\")    \n",
    "        spi_event_file[scwid]  = sshopen(f\"/isdc/pvphase/nrt/ops/scw/{scwid[:4]}/{scwid}.000/spi_oper.fits.gz\")\n",
    "\n",
    "\n",
    "        for C, color, ext in [\n",
    "                        (isgri_event_file, 'y', \"ISGR-EVTS-ALL\"),\n",
    "                        (spi_event_file, 'b', \"SPI.-OSGL-ALL\")\n",
    "                        # (compton_event_file, 'g', \"COMP-MULE-ALL\"),\n",
    "                        # (compton_event_file, 'r', 'COMP-SGLE-ALL')\n",
    "                    ]:\n",
    "            data = C[scwid][ext].data\n",
    "\n",
    "            label=ext + \" \" + scwid\n",
    "        \n",
    "\n",
    "\n",
    "\n",
    "            if ijd2plot(r.TSTART) > -100:\n",
    "                ax.axvline(\n",
    "                    ijd2plot(r.TSTART), ls=\"--\", c='k', alpha=0.5\n",
    "                )\n",
    "                # ax.axvline(\n",
    "                #     ijd2plot(r.TSTOP), ls=\"--\", c='k', alpha=0.5\n",
    "                # )\n",
    "\n",
    "                # plt.text(ijd2plot(r.TSTART), 10000, f\"{scwid[6:8]}\\n{scwid[10:12]}\")\n",
    "                # plt.text(ijd2plot(r.TSTART), 4000, scwid, rotation=90)\n",
    "\n",
    "\n",
    "            # plt.axvspan(\n",
    "            #     ijd2plot(r.TSTART),\n",
    "            #     ijd2plot(r.TSTOP),\n",
    "            #     alpha=0.2,\n",
    "            #     color='red'\n",
    "            # )\n",
    "\n",
    "            if ext in events_by_ext:\n",
    "                print(\"adding to\", ext, len(data))\n",
    "                events_by_ext[ext] = np.concatenate([events_by_ext[ext], data])\n",
    "            else:\n",
    "                print(\"first to\", ext, len(data))\n",
    "                events_by_ext[ext] = data\n",
    "\n",
    "            \n",
    "            label = None\n",
    "\n",
    "\n",
    "    # F = 250\n",
    "    # b = np.nanmean(hklc['SPI_GEDRATE'].c[(hklc['SPI_GEDRATE'].t - T0_ijd)*24*3600 < 200])\n",
    "    # t_rel_s = ijd2plot(hklc['SPI_GEDRATE'].t)\n",
    "    # c = ax.step(\n",
    "    #     t_rel_s, \n",
    "    #     (hklc['SPI_GEDRATE'].c - b)*F, \n",
    "    #     # picsit_lc_1s.flux / 0.8e-9, \n",
    "    #     label=rf\"SPI GeD rate x {F}\"\n",
    "    # )[0].get_color()\n",
    "   \n",
    "\n",
    "    # for r_t1, r_t2 in time_ranges_of_interest:\n",
    "    #     ax.axvspan(r_t1, r_t2, color='k', alpha=0.1)\n",
    "    #     total_counts = np.nansum(hklc['SPI_GEDRATE'].c[(t_rel_s > r_t1) & (t_rel_s < r_t2)] - b)\n",
    "    #     print(f\"gedrate {total_counts} {r_t1} {r_t2} {total_counts:g}\")\n",
    "    #     summary_by_time_range['gedrate'][(r_t1, r_t2)] = total_counts\n",
    "\n",
    "        # plt.axvspan(ijd2plot(r_t1), ijd2plot(r_t2), color=c, alpha=0.2)\n",
    "\n",
    "\n",
    "    for ext, data in events_by_ext.items():\n",
    "        T = data['TIME']\n",
    "\n",
    "        Ei = 0\n",
    "        Ep = 0\n",
    "\n",
    "        try:\n",
    "            Ei = data['ISGRI_ENERGY']            \n",
    "        except:\n",
    "            pass\n",
    "        \n",
    "        try:\n",
    "            Ep = data['PICSIT_ENERGY']\n",
    "        except:\n",
    "            pass\n",
    "\n",
    "        Ec = Ei + Ep\n",
    "\n",
    "        if 'SPI' in ext:\n",
    "            Ec = data['ENERGY']\n",
    "\n",
    "        tbin = 0.002\n",
    "\n",
    "        e_p5, e_p95 = np.nanpercentile(Ec, [5, 95])\n",
    "\n",
    "        h = np.histogram(ijd2plot(T), bins=np.linspace(-10, 800, int(810/tbin)))\n",
    "        dt = (h[1][1:] - h[1][:-1])\n",
    "        tc = (h[1][1:] + h[1][:-1]) / 2.\n",
    "        rate = h[0] / dt\n",
    "\n",
    "        \n",
    "        scale = {\"ISGR-EVTS-ALL\": 1,\n",
    "                 \"SPI.-OSGL-ALL\": 1,\n",
    "                \"COMP-MULE-ALL\": 400,\n",
    "                'COMP-SGLE-ALL': 20 }[ext]\n",
    "        \n",
    "        b = np.mean(rate[(tc < 150) & (tc > 50) & (rate>0)])\n",
    "\n",
    "        print(\"bkg for\", ext, \"=\", b)\n",
    "\n",
    "        N = np.sum(((rate - b)*dt)[(rate - b>0) & (tc > 100) & (tc <700)])\n",
    "        \n",
    "        # ax.step(tc, (rate - b)*scale, alpha=0.8, label=f\"{ext} x {scale:d}. {N:.0f} events\")\n",
    "        ax.step(tc, (rate - b)*scale, alpha=0.8, label=f\"{ext} x {scale:d}, 90% in {e_p5:.1f} - {e_p95:.1f} keV\")\n",
    "        \n",
    "    ijd2plot = lambda t:(t- T0_ijd)*24*3600\n",
    "\n",
    "    # acs_cts2es = 1.5e-10\n",
    "\n",
    "    b = np.mean(acslc.c[(acslc.t- T0_ijd)*24*3600 < 200])\n",
    "    ax.step(ijd2plot(acslc.t), (acslc.c - b)*20, label=\"SPI-ACS\", where='mid')\n",
    "\n",
    "    # b = np.mean(spti_sum[(spti_t - T0_ijd)*24*3600 < 200])\n",
    "    # ax.step(ijd2plot(spti_t), (spti_sum - b)*100, label=\"PICsIT spectra-timing total\", where='mid')\n",
    "\n",
    "    # b = np.mean(spti_7_9[(spti_t - T0_ijd)*24*3600 < 200])\n",
    "    # ax.step(ijd2plot(spti_t), (spti_7_9 - b)*100, label=\"PICsIT spectra-timing 1-4\", where='mid')\n",
    "\n",
    "    b = np.mean(spti_5_9[(spti_t - T0_ijd)*24*3600 < 200])\n",
    "    ax.step(ijd2plot(spti_t), (spti_5_9 - b)*100, label=\"PICsIT spectra-timing 5-9\", where='mid')\n",
    "\n",
    "    # for r_t1, r_t2 in time_ranges_of_interest:\n",
    "    #     ax.axvspan(r_t1, r_t2, color='k', alpha=0.1)\n",
    "    #     total_counts = np.nansum(acslc.c[(acslc.t - T0_ijd)*24*3600 > r_t1] - b)\n",
    "    #     print(f\"SPI-ACS {r_t1} {r_t2} {total_counts:g}\")\n",
    "    #     summary_by_time_range['acs'][(r_t1, r_t2)] = total_counts\n",
    "\n",
    "    # isgri_raw_total_rate = np.sum([mce[i].c for i in range(8)], axis=0 )\n",
    "    # b = np.mean(isgri_raw_total_rate[(mce[0].t- T0_ijd)*24*3600 < 200])\n",
    "    # F = 10\n",
    "    # ax.step((mce[0].t- T0_ijd)*24*3600, isgri_raw_total_rate - b, label=f\"ISGRI RAW rate x {F}\", where='post')\n",
    "\n",
    "    # picsit\n",
    "\n",
    "   \n",
    "\n",
    "    # plt.axhspan(-1e10, 0, color='k', alpha=0.2)\n",
    "    ax.set_ylim([-3e3, 15e3])\n",
    "\n",
    "    ax.set_xlabel(f\"seconds since T$_{{0}}$ ({T0_isot})\")\n",
    "    ax.set_ylabel(\"scaled counts s$^{-1}$\")\n",
    "\n",
    "\n",
    "    # F = 1000\n",
    "    # b = np.nanmean(hklc['SPI_GEDSAT0'].c[(hklc['SPI_GEDSAT0'].t - T0_ijd)*24*3600 < 200])\n",
    "    # c = ax.step(\n",
    "    #     ijd2plot(hklc['SPI_GEDSAT0'].t), \n",
    "    #     (hklc['SPI_GEDSAT0'].c - b)*F, \n",
    "    #     # picsit_lc_1s.flux / 0.8e-9, \n",
    "    #     label=rf\"SPI SAT rate x {F}\"\n",
    "    # )[0].get_color()\n",
    "\n",
    "    # # plt.axhspan(-1e10, 0, color='k', alpha=0.2)\n",
    "    # ax.set_ylim([-1e4, 6e4])\n",
    "\n",
    "    # ax.set_xlabel(f\"seconds since {T0_isot}\")\n",
    "    # ax.set_ylabel(f\"counts s$^{-1}$\")\n",
    "    \n",
    "plot_all(plt.gca())\n",
    "\n",
    "# axy2 = plt.twinx()\n",
    "# axy2.plot(ijd2plot(att_hist['TIME']), scx.separation(src_coord).deg)\n",
    "# axy2.scatter(ijd2plot(att_hist['TIME']), scx.separation(src_coord).deg)\n",
    "# axy2.set_ylim([60,75])\n",
    "\n",
    "# plt.grid(False)\n",
    "\n",
    "plt.legend(loc=\"upper left\")\n",
    "# plt.ylim([-5e4, 6e7])\n",
    "plt.xlim([-0.5, 0])\n",
    "\n",
    "# plt.xlim([250, 400])\n",
    "# plt.savefig(\"figs/prompt_p1.pdf\")\n",
    "\n",
    "# plt.xlim([-10, 10])\n",
    "# plt.ylim([-1e3, 1e3])\n",
    "# plt.savefig(\"figs/precursor.pdf\")\n",
    "\n",
    "\n",
    "# bax = plt.gca()\n",
    "\n",
    "# plt.xlim([-40, 1000])\n",
    "\n",
    "# # plt.xlim([150, 600])\n",
    "# # plt.xlim([270, 300])\n",
    "\n",
    "# # plt.xlim([450, 600])\n",
    "# plt.ylim([-2.5e5, 35e5])\n",
    "\n",
    "\n",
    "# ax = plt.gca().inset_axes([580, 8e5, 400, 2.5e6], transform=plt.gca().transData)\n",
    "# # ax = plt.gca().inset_axes([350, 1e5, 600, 5e5], transform=plt.gca().transData)\n",
    "\n",
    "\n",
    "# plot_all(ax) #, ['compton'])\n",
    "# ax.set_ylim([-2e5, 5.2e7])\n",
    "# ax.set_ylim([-1e5, 7e5])\n",
    "\n",
    "# F = 50\n",
    "# b = np.nanmean(hklc['SPI_GEDRATE0'].c[(hklc['SPI_GEDRATE0'].t - T0_ijd)*24*3600 < 200])\n",
    "# ax.step(\n",
    "#     ijd2plot(hklc['SPI_GEDRATE0'].t), \n",
    "#     (hklc['SPI_GEDRATE0'].c - b)*F, \n",
    "#     # picsit_lc_1s.flux / 0.8e-9, \n",
    "#     label=rf\"SPI rate x {F}\",\n",
    "#     c=c\n",
    "# )\n",
    "\n",
    "# ax.set_xlim(bax.get_xlim())\n",
    "# ax.set_xlabel(None)\n",
    "\n",
    "plt.savefig(\"figs/prompt.pdf\")\n",
    "\n",
    "\n",
    "# ax = plt.gca().inset_axes([-80, 6e5, 220, 1.7e6], transform=plt.gca().transData)\n",
    "# plot_spirates(ax)\n",
    "# ax.set_xlim(bax.get_xlim())\n",
    "# ax.set_xlim([200, 300])\n",
    "\n",
    "# plt.xlim([300, 310])\n",
    "# plt.ylim([-0.5e3, 3e3])\n",
    "\n",
    "\n",
    "# TODO: also show early one\n",
    "# TODO: search for smaller excesses allover\n",
    "# TODO: check if saturation is by ISGRI module, else why smooth transitions in compton rate\n",
    "# TODO: search for long-term in compton, good sensitivity\n",
    "# TODO: check detector plane near compton saturations, module?\n",
    "\n",
    "# TODO: spi-acs would have seen is as a short spike"
   ]
  },
  {
   "cell_type": "code",
   "execution_count": 112,
   "metadata": {},
   "outputs": [
    {
     "data": {
      "text/plain": [
       "<astropy.io.fits.hdu.table.BinTableHDU at 0x7fc5517cf0a0>"
      ]
     },
     "execution_count": 112,
     "metadata": {},
     "output_type": "execute_result"
    }
   ],
   "source": [
    "list(spi_event_file.values())[0]['SPI.-OSGL-ALL']"
   ]
  },
  {
   "cell_type": "code",
   "execution_count": 113,
   "metadata": {},
   "outputs": [
    {
     "data": {
      "text/latex": [
       "$1.4657066 \\times 10^{43} \\; \\mathrm{erg}$"
      ],
      "text/plain": [
       "<Quantity 1.4657066e+43 erg>"
      ]
     },
     "execution_count": 113,
     "metadata": {},
     "output_type": "execute_result"
    }
   ],
   "source": [
    "guess_fluence = 1e-8 * u.erg/u.cm**2 \n",
    "distance = 3.5 * u.Mpc\n",
    "totalenergy = guess_fluence * 4*np.pi*distance**2\n",
    "totalenergy.to(u.erg)"
   ]
  },
  {
   "cell_type": "code",
   "execution_count": 114,
   "id": "43eae02a",
   "metadata": {},
   "outputs": [],
   "source": [
    "\n",
    "# for scwid in isgri_event_file.keys():\n",
    "#     for d, n in [(isgri_event_file[scwid][3].data, 'isgri'), (compton_event_file[scwid]['COMP-SGLE-ALL'].data, 'compton')]:\n",
    "#         plt.figure()\n",
    "\n",
    "#         m = d['TIME'] > T0_ijd + 150./3600./24\n",
    "#         m &= d['TIME'] < T0_ijd + 550/3600./24\n",
    "\n",
    "#         _ = plt.hist2d(d['ISGRI_Y'][m], d['ISGRI_Z'][m], (128, 128))\n",
    "#         plt.title(f\"{scwid} {n}\")"
   ]
  },
  {
   "cell_type": "code",
   "execution_count": 115,
   "id": "3eefd4cc",
   "metadata": {},
   "outputs": [],
   "source": [
    "# !pip install tables"
   ]
  },
  {
   "cell_type": "code",
   "execution_count": 116,
   "id": "cfbf6246",
   "metadata": {},
   "outputs": [],
   "source": [
    "with  pd.HDFStore(\"hklc.h5\", \"w\") as store:\n",
    "\n",
    "    for k, v in hklc.items():\n",
    "        v.to_hdf(store, k)\n"
   ]
  },
  {
   "cell_type": "code",
   "execution_count": 117,
   "id": "b793ddbf",
   "metadata": {},
   "outputs": [],
   "source": [
    "scw_dict_prompt['tstart_since_t0_s'] = ijd2plot(scw_dict_prompt.TSTART)\n",
    "scw_dict_prompt['tstop_since_t0_s'] = ijd2plot(scw_dict_prompt.TSTOP)"
   ]
  },
  {
   "cell_type": "code",
   "execution_count": 118,
   "id": "9baee78a",
   "metadata": {},
   "outputs": [
    {
     "data": {
      "text/plain": [
       "150521.4"
      ]
     },
     "execution_count": 118,
     "metadata": {},
     "output_type": "execute_result"
    }
   ],
   "source": [
    "dd['sc']['bodies']['earth']['separation']"
   ]
  },
  {
   "cell_type": "code",
   "execution_count": 119,
   "id": "1a40bed2",
   "metadata": {},
   "outputs": [
    {
     "data": {
      "text/plain": [
       "[(200, 290), (490, 550)]"
      ]
     },
     "execution_count": 119,
     "metadata": {},
     "output_type": "execute_result"
    }
   ],
   "source": [
    "time_ranges_of_interest"
   ]
  },
  {
   "cell_type": "code",
   "execution_count": 120,
   "id": "a98c9692",
   "metadata": {
    "tags": [
     "outputs"
    ]
   },
   "outputs": [
    {
     "ename": "KeyError",
     "evalue": "'sc_second_pointing'",
     "output_type": "error",
     "traceback": [
      "\u001b[0;31m---------------------------------------------------------------------------\u001b[0m",
      "\u001b[0;31mKeyError\u001b[0m                                  Traceback (most recent call last)",
      "\u001b[1;32m/home/savchenk/grb231115a/prompt.ipynb Cell 37\u001b[0m line \u001b[0;36m1\n\u001b[1;32m      <a href='vscode-notebook-cell:/home/savchenk/grb231115a/prompt.ipynb#X45sZmlsZQ%3D%3D?line=7'>8</a>\u001b[0m T0_pointing_coord\u001b[39m=\u001b[39mdd[\u001b[39m'\u001b[39m\u001b[39msc\u001b[39m\u001b[39m'\u001b[39m][\u001b[39m'\u001b[39m\u001b[39mscx\u001b[39m\u001b[39m'\u001b[39m]\n\u001b[1;32m      <a href='vscode-notebook-cell:/home/savchenk/grb231115a/prompt.ipynb#X45sZmlsZQ%3D%3D?line=8'>9</a>\u001b[0m sc\u001b[39m=\u001b[39mdd[\u001b[39m'\u001b[39m\u001b[39msc\u001b[39m\u001b[39m'\u001b[39m]\n\u001b[0;32m---> <a href='vscode-notebook-cell:/home/savchenk/grb231115a/prompt.ipynb#X45sZmlsZQ%3D%3D?line=9'>10</a>\u001b[0m sc_second_pointing\u001b[39m=\u001b[39mdd[\u001b[39m'\u001b[39;49m\u001b[39msc_second_pointing\u001b[39;49m\u001b[39m'\u001b[39;49m]\n\u001b[1;32m     <a href='vscode-notebook-cell:/home/savchenk/grb231115a/prompt.ipynb#X45sZmlsZQ%3D%3D?line=10'>11</a>\u001b[0m acs_saturation\u001b[39m=\u001b[39macs_saturation\n\u001b[1;32m     <a href='vscode-notebook-cell:/home/savchenk/grb231115a/prompt.ipynb#X45sZmlsZQ%3D%3D?line=11'>12</a>\u001b[0m ged_episode_ratio\u001b[39m=\u001b[39mged_episode_ratio\n",
      "\u001b[0;31mKeyError\u001b[0m: 'sc_second_pointing'"
     ]
    }
   ],
   "source": [
    "hklc_h5=\"hklc.h5\"\n",
    "lc_pdf=\"figs/prompt.pdf\"\n",
    "lc_p1_pdf=\"figs/prompt_p1.pdf\"\n",
    "spi_rates_lc_pdf=\"spi_rates.pdf\"\n",
    "T0_isot=T0_isot\n",
    "data=dict(dd)\n",
    "scws=scw_dict_prompt.to_dict()\n",
    "T0_pointing_coord=dd['sc']['scx']\n",
    "sc=dd['sc']\n",
    "sc_second_pointing=dd['sc_second_pointing']\n",
    "acs_saturation=acs_saturation\n",
    "ged_episode_ratio=ged_episode_ratio\n",
    "acs_fluence_second=acs_fluence_second\n",
    "fluence_estimate=fluence_estimate\n",
    "troi_1_t1 = time_ranges_of_interest[0][0]\n",
    "troi_1_t2 = time_ranges_of_interest[0][1]\n",
    "troi_2_t1 = time_ranges_of_interest[1][0]\n",
    "troi_2_t2 = time_ranges_of_interest[1][1]"
   ]
  }
 ],
 "metadata": {
  "kernelspec": {
   "display_name": "base",
   "language": "python",
   "name": "python3"
  },
  "language_info": {
   "codemirror_mode": {
    "name": "ipython",
    "version": 3
   },
   "file_extension": ".py",
   "mimetype": "text/x-python",
   "name": "python",
   "nbconvert_exporter": "python",
   "pygments_lexer": "ipython3",
   "version": "3.10.12"
  },
  "vscode": {
   "interpreter": {
    "hash": "1892832a55cb9b21d693a1e0afb7563f6ad424a1b7b3da21728b3ea0874fe733"
   }
  }
 },
 "nbformat": 4,
 "nbformat_minor": 5
}
